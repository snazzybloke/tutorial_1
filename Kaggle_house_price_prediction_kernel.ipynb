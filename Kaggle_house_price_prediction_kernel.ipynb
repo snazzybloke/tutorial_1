{
  "nbformat": 4,
  "nbformat_minor": 0,
  "metadata": {
    "colab": {
      "name": "kernel.ipynb",
      "version": "0.3.2",
      "provenance": [],
      "include_colab_link": true
    },
    "kernelspec": {
      "display_name": "Python 3",
      "language": "python",
      "name": "python3"
    }
  },
  "cells": [
    {
      "cell_type": "markdown",
      "metadata": {
        "id": "view-in-github",
        "colab_type": "text"
      },
      "source": [
        "[View in Colaboratory](https://colab.research.google.com/github/snazzybloke/tutorial_1/blob/master/Kaggle_house_price_prediction_kernel.ipynb)"
      ]
    },
    {
      "metadata": {
        "id": "ch4_-nWZPUXG",
        "colab_type": "text"
      },
      "cell_type": "markdown",
      "source": [
        "# Introduction\n",
        "**This will be your workspace for the [Machine Learning course](https://www.kaggle.com/learn/machine-learning).**\n",
        "\n",
        "You will need to translate the concepts to work with the data in this notebook, the Iowa data. Each page in the Machine Learning course includes instructions for what code to write at that step in the course.\n",
        "\n",
        "# Write Your Code Below"
      ]
    },
    {
      "metadata": {
        "id": "B2oQ7zOcRXlW",
        "colab_type": "code",
        "colab": {
          "resources": {
            "http://localhost:8080/nbextensions/google.colab/files.js": {
              "data": "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",
              "ok": true,
              "headers": [
                [
                  "content-type",
                  "application/javascript"
                ]
              ],
              "status": 200,
              "status_text": "OK"
            }
          },
          "base_uri": "https://localhost:8080/",
          "height": 152
        },
        "outputId": "f8d6d2d8-2607-43ce-df11-029f98137b06"
      },
      "cell_type": "code",
      "source": [
        "from google.colab import files\n",
        "\n",
        "uploaded = files.upload()\n",
        "\n",
        "for fn in uploaded.keys():\n",
        "  print('User uploaded file \"{name}\" with length {length} bytes'.format(name=fn, length=len(uploaded[fn])))"
      ],
      "execution_count": 10,
      "outputs": [
        {
          "output_type": "display_data",
          "data": {
            "text/html": [
              "\n",
              "     <input type=\"file\" id=\"files-9c883695-4a1d-48a5-884f-8c4b9589744f\" name=\"files[]\" multiple disabled />\n",
              "     <output id=\"result-9c883695-4a1d-48a5-884f-8c4b9589744f\">\n",
              "      Upload widget is only available when the cell has been executed in the\n",
              "      current browser session. Please rerun this cell to enable.\n",
              "      </output>\n",
              "      <script src=\"/nbextensions/google.colab/files.js\"></script> "
            ],
            "text/plain": [
              "<IPython.core.display.HTML object>"
            ]
          },
          "metadata": {
            "tags": []
          }
        },
        {
          "output_type": "stream",
          "text": [
            "Saving train.csv.gz to train.csv.gz\n",
            "Saving test.csv.gz to test.csv (1).gz\n",
            "User uploaded file \"train.csv.gz\" with length 91387 bytes\n",
            "User uploaded file \"test.csv.gz\" with length 83948 bytes\n"
          ],
          "name": "stdout"
        }
      ]
    },
    {
      "metadata": {
        "id": "cJwbVPlxUri2",
        "colab_type": "code",
        "colab": {
          "base_uri": "https://localhost:8080/",
          "height": 35
        },
        "outputId": "713e8435-9881-48c8-d8d3-04d031d9c940"
      },
      "cell_type": "code",
      "source": [
        "uploaded.keys()"
      ],
      "execution_count": 11,
      "outputs": [
        {
          "output_type": "execute_result",
          "data": {
            "text/plain": [
              "dict_keys(['train.csv.gz', 'test.csv.gz'])"
            ]
          },
          "metadata": {
            "tags": []
          },
          "execution_count": 11
        }
      ]
    },
    {
      "metadata": {
        "id": "yHolP4GLPUXL",
        "colab_type": "code",
        "colab": {
          "base_uri": "https://localhost:8080/",
          "height": 946
        },
        "outputId": "09a91fe7-1b6b-4112-880e-1db0e01646ab"
      },
      "cell_type": "code",
      "source": [
        "import pandas as pd\n",
        "#import pathlib\n",
        "import io, gzip\n",
        "\n",
        "# main_file_path = '../input/house-prices-advanced-regression-techniques/train.csv' # this is the path to the Iowa data that you will use\n",
        "# data = pd.read_csv(io.StringIO(uploaded['train.csv'].decode('utf-8')))  # this should work for *.csv, but not if it is gzipped\n",
        "dfile = gzip.GzipFile(fileobj=io.BytesIO(uploaded['train.csv.gz']))\n",
        "data = pd.read_csv(dfile)\n",
        "\n",
        "# Run this code block with the control-enter keys on your keyboard. Or click the blue botton on the left\n",
        "print('Some output from running this cell')\n",
        "\n",
        "print(data.describe())"
      ],
      "execution_count": 27,
      "outputs": [
        {
          "output_type": "stream",
          "text": [
            "Some output from running this cell\n",
            "                Id   MSSubClass  LotFrontage        LotArea  OverallQual  \\\n",
            "count  1460.000000  1460.000000  1201.000000    1460.000000  1460.000000   \n",
            "mean    730.500000    56.897260    70.049958   10516.828082     6.099315   \n",
            "std     421.610009    42.300571    24.284752    9981.264932     1.382997   \n",
            "min       1.000000    20.000000    21.000000    1300.000000     1.000000   \n",
            "25%     365.750000    20.000000    59.000000    7553.500000     5.000000   \n",
            "50%     730.500000    50.000000    69.000000    9478.500000     6.000000   \n",
            "75%    1095.250000    70.000000    80.000000   11601.500000     7.000000   \n",
            "max    1460.000000   190.000000   313.000000  215245.000000    10.000000   \n",
            "\n",
            "       OverallCond    YearBuilt  YearRemodAdd   MasVnrArea   BsmtFinSF1  \\\n",
            "count  1460.000000  1460.000000   1460.000000  1452.000000  1460.000000   \n",
            "mean      5.575342  1971.267808   1984.865753   103.685262   443.639726   \n",
            "std       1.112799    30.202904     20.645407   181.066207   456.098091   \n",
            "min       1.000000  1872.000000   1950.000000     0.000000     0.000000   \n",
            "25%       5.000000  1954.000000   1967.000000     0.000000     0.000000   \n",
            "50%       5.000000  1973.000000   1994.000000     0.000000   383.500000   \n",
            "75%       6.000000  2000.000000   2004.000000   166.000000   712.250000   \n",
            "max       9.000000  2010.000000   2010.000000  1600.000000  5644.000000   \n",
            "\n",
            "           ...         WoodDeckSF  OpenPorchSF  EnclosedPorch    3SsnPorch  \\\n",
            "count      ...        1460.000000  1460.000000    1460.000000  1460.000000   \n",
            "mean       ...          94.244521    46.660274      21.954110     3.409589   \n",
            "std        ...         125.338794    66.256028      61.119149    29.317331   \n",
            "min        ...           0.000000     0.000000       0.000000     0.000000   \n",
            "25%        ...           0.000000     0.000000       0.000000     0.000000   \n",
            "50%        ...           0.000000    25.000000       0.000000     0.000000   \n",
            "75%        ...         168.000000    68.000000       0.000000     0.000000   \n",
            "max        ...         857.000000   547.000000     552.000000   508.000000   \n",
            "\n",
            "       ScreenPorch     PoolArea       MiscVal       MoSold       YrSold  \\\n",
            "count  1460.000000  1460.000000   1460.000000  1460.000000  1460.000000   \n",
            "mean     15.060959     2.758904     43.489041     6.321918  2007.815753   \n",
            "std      55.757415    40.177307    496.123024     2.703626     1.328095   \n",
            "min       0.000000     0.000000      0.000000     1.000000  2006.000000   \n",
            "25%       0.000000     0.000000      0.000000     5.000000  2007.000000   \n",
            "50%       0.000000     0.000000      0.000000     6.000000  2008.000000   \n",
            "75%       0.000000     0.000000      0.000000     8.000000  2009.000000   \n",
            "max     480.000000   738.000000  15500.000000    12.000000  2010.000000   \n",
            "\n",
            "           SalePrice  \n",
            "count    1460.000000  \n",
            "mean   180921.195890  \n",
            "std     79442.502883  \n",
            "min     34900.000000  \n",
            "25%    129975.000000  \n",
            "50%    163000.000000  \n",
            "75%    214000.000000  \n",
            "max    755000.000000  \n",
            "\n",
            "[8 rows x 38 columns]\n"
          ],
          "name": "stdout"
        }
      ]
    },
    {
      "metadata": {
        "id": "Jm4ILuBtPUXb",
        "colab_type": "code",
        "colab": {
          "base_uri": "https://localhost:8080/",
          "height": 339
        },
        "outputId": "adbb2653-1f7d-4970-8108-b54ed9dde98a"
      },
      "cell_type": "code",
      "source": [
        "print(data.columns)"
      ],
      "execution_count": 28,
      "outputs": [
        {
          "output_type": "stream",
          "text": [
            "Index(['Id', 'MSSubClass', 'MSZoning', 'LotFrontage', 'LotArea', 'Street',\n",
            "       'Alley', 'LotShape', 'LandContour', 'Utilities', 'LotConfig',\n",
            "       'LandSlope', 'Neighborhood', 'Condition1', 'Condition2', 'BldgType',\n",
            "       'HouseStyle', 'OverallQual', 'OverallCond', 'YearBuilt', 'YearRemodAdd',\n",
            "       'RoofStyle', 'RoofMatl', 'Exterior1st', 'Exterior2nd', 'MasVnrType',\n",
            "       'MasVnrArea', 'ExterQual', 'ExterCond', 'Foundation', 'BsmtQual',\n",
            "       'BsmtCond', 'BsmtExposure', 'BsmtFinType1', 'BsmtFinSF1',\n",
            "       'BsmtFinType2', 'BsmtFinSF2', 'BsmtUnfSF', 'TotalBsmtSF', 'Heating',\n",
            "       'HeatingQC', 'CentralAir', 'Electrical', '1stFlrSF', '2ndFlrSF',\n",
            "       'LowQualFinSF', 'GrLivArea', 'BsmtFullBath', 'BsmtHalfBath', 'FullBath',\n",
            "       'HalfBath', 'BedroomAbvGr', 'KitchenAbvGr', 'KitchenQual',\n",
            "       'TotRmsAbvGrd', 'Functional', 'Fireplaces', 'FireplaceQu', 'GarageType',\n",
            "       'GarageYrBlt', 'GarageFinish', 'GarageCars', 'GarageArea', 'GarageQual',\n",
            "       'GarageCond', 'PavedDrive', 'WoodDeckSF', 'OpenPorchSF',\n",
            "       'EnclosedPorch', '3SsnPorch', 'ScreenPorch', 'PoolArea', 'PoolQC',\n",
            "       'Fence', 'MiscFeature', 'MiscVal', 'MoSold', 'YrSold', 'SaleType',\n",
            "       'SaleCondition', 'SalePrice'],\n",
            "      dtype='object')\n"
          ],
          "name": "stdout"
        }
      ]
    },
    {
      "metadata": {
        "id": "H-12xAu5PUXn",
        "colab_type": "code",
        "colab": {
          "base_uri": "https://localhost:8080/",
          "height": 124
        },
        "outputId": "d1acd567-cf65-4616-fd5b-40d41d92cb4f"
      },
      "cell_type": "code",
      "source": [
        "iowa_home_price = data['SalePrice']\n",
        "iowa_home_price.head()"
      ],
      "execution_count": 29,
      "outputs": [
        {
          "output_type": "execute_result",
          "data": {
            "text/plain": [
              "0    208500\n",
              "1    181500\n",
              "2    223500\n",
              "3    140000\n",
              "4    250000\n",
              "Name: SalePrice, dtype: int64"
            ]
          },
          "metadata": {
            "tags": []
          },
          "execution_count": 29
        }
      ]
    },
    {
      "metadata": {
        "id": "Wsw1QgUcPUXy",
        "colab_type": "code",
        "colab": {
          "base_uri": "https://localhost:8080/",
          "height": 300
        },
        "outputId": "689cdd31-085c-4bf9-e794-0ec1f6a0759f"
      },
      "cell_type": "code",
      "source": [
        "two_columns = data[['LotArea', 'BedroomAbvGr']]\n",
        "two_columns.describe()"
      ],
      "execution_count": 30,
      "outputs": [
        {
          "output_type": "execute_result",
          "data": {
            "text/html": [
              "<div>\n",
              "<style scoped>\n",
              "    .dataframe tbody tr th:only-of-type {\n",
              "        vertical-align: middle;\n",
              "    }\n",
              "\n",
              "    .dataframe tbody tr th {\n",
              "        vertical-align: top;\n",
              "    }\n",
              "\n",
              "    .dataframe thead th {\n",
              "        text-align: right;\n",
              "    }\n",
              "</style>\n",
              "<table border=\"1\" class=\"dataframe\">\n",
              "  <thead>\n",
              "    <tr style=\"text-align: right;\">\n",
              "      <th></th>\n",
              "      <th>LotArea</th>\n",
              "      <th>BedroomAbvGr</th>\n",
              "    </tr>\n",
              "  </thead>\n",
              "  <tbody>\n",
              "    <tr>\n",
              "      <th>count</th>\n",
              "      <td>1460.000000</td>\n",
              "      <td>1460.000000</td>\n",
              "    </tr>\n",
              "    <tr>\n",
              "      <th>mean</th>\n",
              "      <td>10516.828082</td>\n",
              "      <td>2.866438</td>\n",
              "    </tr>\n",
              "    <tr>\n",
              "      <th>std</th>\n",
              "      <td>9981.264932</td>\n",
              "      <td>0.815778</td>\n",
              "    </tr>\n",
              "    <tr>\n",
              "      <th>min</th>\n",
              "      <td>1300.000000</td>\n",
              "      <td>0.000000</td>\n",
              "    </tr>\n",
              "    <tr>\n",
              "      <th>25%</th>\n",
              "      <td>7553.500000</td>\n",
              "      <td>2.000000</td>\n",
              "    </tr>\n",
              "    <tr>\n",
              "      <th>50%</th>\n",
              "      <td>9478.500000</td>\n",
              "      <td>3.000000</td>\n",
              "    </tr>\n",
              "    <tr>\n",
              "      <th>75%</th>\n",
              "      <td>11601.500000</td>\n",
              "      <td>3.000000</td>\n",
              "    </tr>\n",
              "    <tr>\n",
              "      <th>max</th>\n",
              "      <td>215245.000000</td>\n",
              "      <td>8.000000</td>\n",
              "    </tr>\n",
              "  </tbody>\n",
              "</table>\n",
              "</div>"
            ],
            "text/plain": [
              "             LotArea  BedroomAbvGr\n",
              "count    1460.000000   1460.000000\n",
              "mean    10516.828082      2.866438\n",
              "std      9981.264932      0.815778\n",
              "min      1300.000000      0.000000\n",
              "25%      7553.500000      2.000000\n",
              "50%      9478.500000      3.000000\n",
              "75%     11601.500000      3.000000\n",
              "max    215245.000000      8.000000"
            ]
          },
          "metadata": {
            "tags": []
          },
          "execution_count": 30
        }
      ]
    },
    {
      "metadata": {
        "id": "gGtpHQPlPUX9",
        "colab_type": "code",
        "colab": {
          "base_uri": "https://localhost:8080/",
          "height": 106
        },
        "outputId": "984ddf9b-14b2-4020-95bd-569602fd2500"
      },
      "cell_type": "code",
      "source": [
        "from sklearn.tree import DecisionTreeRegressor\n",
        "iowa_model = DecisionTreeRegressor()\n",
        "\n",
        "y = iowa_home_price\n",
        "X = data[['LotArea', 'YearBuilt', '1stFlrSF', '2ndFlrSF', 'FullBath', 'BedroomAbvGr', 'TotRmsAbvGrd']]\n",
        "iowa_model.fit(X, y)"
      ],
      "execution_count": 31,
      "outputs": [
        {
          "output_type": "execute_result",
          "data": {
            "text/plain": [
              "DecisionTreeRegressor(criterion='mse', max_depth=None, max_features=None,\n",
              "           max_leaf_nodes=None, min_impurity_decrease=0.0,\n",
              "           min_impurity_split=None, min_samples_leaf=1,\n",
              "           min_samples_split=2, min_weight_fraction_leaf=0.0,\n",
              "           presort=False, random_state=None, splitter='best')"
            ]
          },
          "metadata": {
            "tags": []
          },
          "execution_count": 31
        }
      ]
    },
    {
      "metadata": {
        "id": "BIDdheSJPUYF",
        "colab_type": "code",
        "colab": {
          "base_uri": "https://localhost:8080/",
          "height": 249
        },
        "outputId": "48909341-b5fd-42bd-eae7-c31c476cb8e4"
      },
      "cell_type": "code",
      "source": [
        "print(X.head(1234).head())"
      ],
      "execution_count": 32,
      "outputs": [
        {
          "output_type": "stream",
          "text": [
            "   LotArea  YearBuilt  1stFlrSF  2ndFlrSF  FullBath  BedroomAbvGr  \\\n",
            "0     8450       2003       856       854         2             3   \n",
            "1     9600       1976      1262         0         2             3   \n",
            "2    11250       2001       920       866         2             3   \n",
            "3     9550       1915       961       756         1             3   \n",
            "4    14260       2000      1145      1053         2             4   \n",
            "\n",
            "   TotRmsAbvGrd  \n",
            "0             8  \n",
            "1             6  \n",
            "2             6  \n",
            "3             7  \n",
            "4             9  \n"
          ],
          "name": "stdout"
        }
      ]
    },
    {
      "metadata": {
        "id": "bjKDedt5PUYN",
        "colab_type": "code",
        "colab": {
          "base_uri": "https://localhost:8080/",
          "height": 142
        },
        "outputId": "aa8d2133-622f-465b-a288-66a25e7e0ca5"
      },
      "cell_type": "code",
      "source": [
        "print(iowa_model.predict(X.head(1234).head()),'\\n', y.head(1234).head())"
      ],
      "execution_count": 33,
      "outputs": [
        {
          "output_type": "stream",
          "text": [
            "[208500. 181500. 223500. 140000. 250000.] \n",
            " 0    208500\n",
            "1    181500\n",
            "2    223500\n",
            "3    140000\n",
            "4    250000\n",
            "Name: SalePrice, dtype: int64\n"
          ],
          "name": "stdout"
        }
      ]
    },
    {
      "metadata": {
        "id": "Rshm4kgfPUYb",
        "colab_type": "code",
        "colab": {
          "base_uri": "https://localhost:8080/",
          "height": 35
        },
        "outputId": "da0b1354-4e32-498d-de53-bab8543e42d0"
      },
      "cell_type": "code",
      "source": [
        "from sklearn.metrics import mean_absolute_error\n",
        "yP = iowa_model.predict(X)\n",
        "mean_absolute_error(y, yP)"
      ],
      "execution_count": 34,
      "outputs": [
        {
          "output_type": "execute_result",
          "data": {
            "text/plain": [
              "62.35433789954339"
            ]
          },
          "metadata": {
            "tags": []
          },
          "execution_count": 34
        }
      ]
    },
    {
      "metadata": {
        "id": "C54_YBbdPUYm",
        "colab_type": "code",
        "colab": {
          "base_uri": "https://localhost:8080/",
          "height": 35
        },
        "outputId": "c40988d8-903a-44d6-bdb2-860e235b7ec3"
      },
      "cell_type": "code",
      "source": [
        "from sklearn.model_selection import train_test_split\n",
        "Xt, Xv, yt, yv = train_test_split(X, y, random_state=0)\n",
        "iowa_model.fit(Xt, yt)\n",
        "yP = iowa_model.predict(Xv)\n",
        "mean_absolute_error(yv, yP)"
      ],
      "execution_count": 35,
      "outputs": [
        {
          "output_type": "execute_result",
          "data": {
            "text/plain": [
              "32627.70410958904"
            ]
          },
          "metadata": {
            "tags": []
          },
          "execution_count": 35
        }
      ]
    },
    {
      "metadata": {
        "id": "k0jDs-CgPUYw",
        "colab_type": "code",
        "colab": {
          "base_uri": "https://localhost:8080/",
          "height": 88
        },
        "outputId": "15c9e5b5-efbe-48f3-a7e1-d5eff2bd0417"
      },
      "cell_type": "code",
      "source": [
        "def get_mae(dt_leaf_nodes, train_preds, val_preds, train_targ, val_targ):\n",
        "    model = DecisionTreeRegressor(max_leaf_nodes=dt_leaf_nodes, random_state=0)\n",
        "    model.fit(train_preds, train_targ)\n",
        "    yP = model.predict(val_preds)\n",
        "    mae = mean_absolute_error(val_targ, yP)\n",
        "    return mae\n",
        "\n",
        "for leaf_nodes in [5, 50, 500, 5000]:\n",
        "    print(\"Max leaf nodes: {}, MAError {}\".format(leaf_nodes, get_mae(leaf_nodes, Xt, Xv, yt, yv)))\n",
        "    "
      ],
      "execution_count": 37,
      "outputs": [
        {
          "output_type": "stream",
          "text": [
            "Max leaf nodes: 5, MAError 35190.33670788684\n",
            "Max leaf nodes: 50, MAError 27825.888386265695\n",
            "Max leaf nodes: 500, MAError 32662.00407479887\n",
            "Max leaf nodes: 5000, MAError 33382.79452054795\n"
          ],
          "name": "stdout"
        }
      ]
    },
    {
      "metadata": {
        "id": "BgrCPJYjPUY5",
        "colab_type": "code",
        "colab": {
          "base_uri": "https://localhost:8080/",
          "height": 35
        },
        "outputId": "f0c719a1-d94e-4a99-be20-6703be924240"
      },
      "cell_type": "code",
      "source": [
        "from sklearn.ensemble import RandomForestRegressor\n",
        "rf = RandomForestRegressor()\n",
        "rf.fit(Xt, yt)\n",
        "yP = rf.predict(Xv)\n",
        "mean_absolute_error(yv, yP)"
      ],
      "execution_count": 38,
      "outputs": [
        {
          "output_type": "execute_result",
          "data": {
            "text/plain": [
              "24410.856986301373"
            ]
          },
          "metadata": {
            "tags": []
          },
          "execution_count": 38
        }
      ]
    },
    {
      "metadata": {
        "id": "rkcAq1BsPUZB",
        "colab_type": "code",
        "colab": {
          "base_uri": "https://localhost:8080/",
          "height": 35
        },
        "outputId": "701da1ce-ccf7-48d8-96a4-d34e2ef871b2"
      },
      "cell_type": "code",
      "source": [
        "# test = pd.read_csv('../input/house-prices-advanced-regression-techniques/test.csv')\n",
        "# Test = pd.read_csv(main_file_path / pathlib.Path('test.csv.gz'))\n",
        "dfile = gzip.GzipFile(fileobj=io.BytesIO(uploaded['test.csv.gz']))\n",
        "Test = pd.read_csv(dfile)\n",
        "XT = Test[['LotArea', 'YearBuilt', '1stFlrSF', '2ndFlrSF', 'FullBath', 'BedroomAbvGr', 'TotRmsAbvGrd']]\n",
        "yT = rf.predict(XT)\n",
        "yT"
      ],
      "execution_count": 40,
      "outputs": [
        {
          "output_type": "execute_result",
          "data": {
            "text/plain": [
              "array([139440. , 154640. , 189030. , ..., 141511.4, 126800. , 220350. ])"
            ]
          },
          "metadata": {
            "tags": []
          },
          "execution_count": 40
        }
      ]
    },
    {
      "metadata": {
        "id": "d0Hmkk3VPUZR",
        "colab_type": "code",
        "colab": {
          "base_uri": "https://localhost:8080/",
          "height": 1536
        },
        "outputId": "d28c8fbd-253a-41fb-eae4-179f67bc1b71"
      },
      "cell_type": "code",
      "source": [
        "# low score achieved with the above. Now re-doing it all properly:\n",
        "y_train = data['SalePrice']\n",
        "data = data.drop('SalePrice', axis=1)\n",
        "data['Training'] = True\n",
        "Test['Training'] = False\n",
        "full_data = pd.concat([data, Test])\n",
        "full_data = full_data.set_index('Id')\n",
        "full_data.info()"
      ],
      "execution_count": 41,
      "outputs": [
        {
          "output_type": "stream",
          "text": [
            "<class 'pandas.core.frame.DataFrame'>\n",
            "Int64Index: 2919 entries, 1 to 2919\n",
            "Data columns (total 80 columns):\n",
            "MSSubClass       2919 non-null int64\n",
            "MSZoning         2915 non-null object\n",
            "LotFrontage      2433 non-null float64\n",
            "LotArea          2919 non-null int64\n",
            "Street           2919 non-null object\n",
            "Alley            198 non-null object\n",
            "LotShape         2919 non-null object\n",
            "LandContour      2919 non-null object\n",
            "Utilities        2917 non-null object\n",
            "LotConfig        2919 non-null object\n",
            "LandSlope        2919 non-null object\n",
            "Neighborhood     2919 non-null object\n",
            "Condition1       2919 non-null object\n",
            "Condition2       2919 non-null object\n",
            "BldgType         2919 non-null object\n",
            "HouseStyle       2919 non-null object\n",
            "OverallQual      2919 non-null int64\n",
            "OverallCond      2919 non-null int64\n",
            "YearBuilt        2919 non-null int64\n",
            "YearRemodAdd     2919 non-null int64\n",
            "RoofStyle        2919 non-null object\n",
            "RoofMatl         2919 non-null object\n",
            "Exterior1st      2918 non-null object\n",
            "Exterior2nd      2918 non-null object\n",
            "MasVnrType       2895 non-null object\n",
            "MasVnrArea       2896 non-null float64\n",
            "ExterQual        2919 non-null object\n",
            "ExterCond        2919 non-null object\n",
            "Foundation       2919 non-null object\n",
            "BsmtQual         2838 non-null object\n",
            "BsmtCond         2837 non-null object\n",
            "BsmtExposure     2837 non-null object\n",
            "BsmtFinType1     2840 non-null object\n",
            "BsmtFinSF1       2918 non-null float64\n",
            "BsmtFinType2     2839 non-null object\n",
            "BsmtFinSF2       2918 non-null float64\n",
            "BsmtUnfSF        2918 non-null float64\n",
            "TotalBsmtSF      2918 non-null float64\n",
            "Heating          2919 non-null object\n",
            "HeatingQC        2919 non-null object\n",
            "CentralAir       2919 non-null object\n",
            "Electrical       2918 non-null object\n",
            "1stFlrSF         2919 non-null int64\n",
            "2ndFlrSF         2919 non-null int64\n",
            "LowQualFinSF     2919 non-null int64\n",
            "GrLivArea        2919 non-null int64\n",
            "BsmtFullBath     2917 non-null float64\n",
            "BsmtHalfBath     2917 non-null float64\n",
            "FullBath         2919 non-null int64\n",
            "HalfBath         2919 non-null int64\n",
            "BedroomAbvGr     2919 non-null int64\n",
            "KitchenAbvGr     2919 non-null int64\n",
            "KitchenQual      2918 non-null object\n",
            "TotRmsAbvGrd     2919 non-null int64\n",
            "Functional       2917 non-null object\n",
            "Fireplaces       2919 non-null int64\n",
            "FireplaceQu      1499 non-null object\n",
            "GarageType       2762 non-null object\n",
            "GarageYrBlt      2760 non-null float64\n",
            "GarageFinish     2760 non-null object\n",
            "GarageCars       2918 non-null float64\n",
            "GarageArea       2918 non-null float64\n",
            "GarageQual       2760 non-null object\n",
            "GarageCond       2760 non-null object\n",
            "PavedDrive       2919 non-null object\n",
            "WoodDeckSF       2919 non-null int64\n",
            "OpenPorchSF      2919 non-null int64\n",
            "EnclosedPorch    2919 non-null int64\n",
            "3SsnPorch        2919 non-null int64\n",
            "ScreenPorch      2919 non-null int64\n",
            "PoolArea         2919 non-null int64\n",
            "PoolQC           10 non-null object\n",
            "Fence            571 non-null object\n",
            "MiscFeature      105 non-null object\n",
            "MiscVal          2919 non-null int64\n",
            "MoSold           2919 non-null int64\n",
            "YrSold           2919 non-null int64\n",
            "SaleType         2918 non-null object\n",
            "SaleCondition    2919 non-null object\n",
            "Training         2919 non-null bool\n",
            "dtypes: bool(1), float64(11), int64(25), object(43)\n",
            "memory usage: 1.8+ MB\n"
          ],
          "name": "stdout"
        }
      ]
    },
    {
      "metadata": {
        "id": "C4ckvkWuPUZb",
        "colab_type": "code",
        "colab": {
          "base_uri": "https://localhost:8080/",
          "height": 35
        },
        "outputId": "124b0a1d-eb2d-40ab-83f8-8eb66d0445a6"
      },
      "cell_type": "code",
      "source": [
        "# get rid of columns with majority NaN values:\n",
        "full_data.columns[full_data.isnull().sum().gt(2000)]"
      ],
      "execution_count": 42,
      "outputs": [
        {
          "output_type": "execute_result",
          "data": {
            "text/plain": [
              "Index(['Alley', 'PoolQC', 'Fence', 'MiscFeature'], dtype='object')"
            ]
          },
          "metadata": {
            "tags": []
          },
          "execution_count": 42
        }
      ]
    },
    {
      "metadata": {
        "id": "NehYuuoUPUZk",
        "colab_type": "code",
        "colab": {
          "base_uri": "https://localhost:8080/",
          "height": 287
        },
        "outputId": "f8cc5c49-d49c-4191-e3d1-2e4fb493a6cd"
      },
      "cell_type": "code",
      "source": [
        "full_data = full_data.drop(['Alley', 'Fence', 'MiscFeature', 'PoolQC'], axis=1)\n",
        "# fill missing numerical values\n",
        "full_data = full_data.interpolate()\n",
        "# OneHotEncoder for categorical:\n",
        "full_data = pd.get_dummies(full_data)\n",
        "full_data.head()"
      ],
      "execution_count": 43,
      "outputs": [
        {
          "output_type": "execute_result",
          "data": {
            "text/html": [
              "<div>\n",
              "<style scoped>\n",
              "    .dataframe tbody tr th:only-of-type {\n",
              "        vertical-align: middle;\n",
              "    }\n",
              "\n",
              "    .dataframe tbody tr th {\n",
              "        vertical-align: top;\n",
              "    }\n",
              "\n",
              "    .dataframe thead th {\n",
              "        text-align: right;\n",
              "    }\n",
              "</style>\n",
              "<table border=\"1\" class=\"dataframe\">\n",
              "  <thead>\n",
              "    <tr style=\"text-align: right;\">\n",
              "      <th></th>\n",
              "      <th>MSSubClass</th>\n",
              "      <th>LotFrontage</th>\n",
              "      <th>LotArea</th>\n",
              "      <th>OverallQual</th>\n",
              "      <th>OverallCond</th>\n",
              "      <th>YearBuilt</th>\n",
              "      <th>YearRemodAdd</th>\n",
              "      <th>MasVnrArea</th>\n",
              "      <th>BsmtFinSF1</th>\n",
              "      <th>BsmtFinSF2</th>\n",
              "      <th>...</th>\n",
              "      <th>SaleType_ConLw</th>\n",
              "      <th>SaleType_New</th>\n",
              "      <th>SaleType_Oth</th>\n",
              "      <th>SaleType_WD</th>\n",
              "      <th>SaleCondition_Abnorml</th>\n",
              "      <th>SaleCondition_AdjLand</th>\n",
              "      <th>SaleCondition_Alloca</th>\n",
              "      <th>SaleCondition_Family</th>\n",
              "      <th>SaleCondition_Normal</th>\n",
              "      <th>SaleCondition_Partial</th>\n",
              "    </tr>\n",
              "    <tr>\n",
              "      <th>Id</th>\n",
              "      <th></th>\n",
              "      <th></th>\n",
              "      <th></th>\n",
              "      <th></th>\n",
              "      <th></th>\n",
              "      <th></th>\n",
              "      <th></th>\n",
              "      <th></th>\n",
              "      <th></th>\n",
              "      <th></th>\n",
              "      <th></th>\n",
              "      <th></th>\n",
              "      <th></th>\n",
              "      <th></th>\n",
              "      <th></th>\n",
              "      <th></th>\n",
              "      <th></th>\n",
              "      <th></th>\n",
              "      <th></th>\n",
              "      <th></th>\n",
              "      <th></th>\n",
              "    </tr>\n",
              "  </thead>\n",
              "  <tbody>\n",
              "    <tr>\n",
              "      <th>1</th>\n",
              "      <td>60</td>\n",
              "      <td>65.0</td>\n",
              "      <td>8450</td>\n",
              "      <td>7</td>\n",
              "      <td>5</td>\n",
              "      <td>2003</td>\n",
              "      <td>2003</td>\n",
              "      <td>196.0</td>\n",
              "      <td>706.0</td>\n",
              "      <td>0.0</td>\n",
              "      <td>...</td>\n",
              "      <td>0</td>\n",
              "      <td>0</td>\n",
              "      <td>0</td>\n",
              "      <td>1</td>\n",
              "      <td>0</td>\n",
              "      <td>0</td>\n",
              "      <td>0</td>\n",
              "      <td>0</td>\n",
              "      <td>1</td>\n",
              "      <td>0</td>\n",
              "    </tr>\n",
              "    <tr>\n",
              "      <th>2</th>\n",
              "      <td>20</td>\n",
              "      <td>80.0</td>\n",
              "      <td>9600</td>\n",
              "      <td>6</td>\n",
              "      <td>8</td>\n",
              "      <td>1976</td>\n",
              "      <td>1976</td>\n",
              "      <td>0.0</td>\n",
              "      <td>978.0</td>\n",
              "      <td>0.0</td>\n",
              "      <td>...</td>\n",
              "      <td>0</td>\n",
              "      <td>0</td>\n",
              "      <td>0</td>\n",
              "      <td>1</td>\n",
              "      <td>0</td>\n",
              "      <td>0</td>\n",
              "      <td>0</td>\n",
              "      <td>0</td>\n",
              "      <td>1</td>\n",
              "      <td>0</td>\n",
              "    </tr>\n",
              "    <tr>\n",
              "      <th>3</th>\n",
              "      <td>60</td>\n",
              "      <td>68.0</td>\n",
              "      <td>11250</td>\n",
              "      <td>7</td>\n",
              "      <td>5</td>\n",
              "      <td>2001</td>\n",
              "      <td>2002</td>\n",
              "      <td>162.0</td>\n",
              "      <td>486.0</td>\n",
              "      <td>0.0</td>\n",
              "      <td>...</td>\n",
              "      <td>0</td>\n",
              "      <td>0</td>\n",
              "      <td>0</td>\n",
              "      <td>1</td>\n",
              "      <td>0</td>\n",
              "      <td>0</td>\n",
              "      <td>0</td>\n",
              "      <td>0</td>\n",
              "      <td>1</td>\n",
              "      <td>0</td>\n",
              "    </tr>\n",
              "    <tr>\n",
              "      <th>4</th>\n",
              "      <td>70</td>\n",
              "      <td>60.0</td>\n",
              "      <td>9550</td>\n",
              "      <td>7</td>\n",
              "      <td>5</td>\n",
              "      <td>1915</td>\n",
              "      <td>1970</td>\n",
              "      <td>0.0</td>\n",
              "      <td>216.0</td>\n",
              "      <td>0.0</td>\n",
              "      <td>...</td>\n",
              "      <td>0</td>\n",
              "      <td>0</td>\n",
              "      <td>0</td>\n",
              "      <td>1</td>\n",
              "      <td>1</td>\n",
              "      <td>0</td>\n",
              "      <td>0</td>\n",
              "      <td>0</td>\n",
              "      <td>0</td>\n",
              "      <td>0</td>\n",
              "    </tr>\n",
              "    <tr>\n",
              "      <th>5</th>\n",
              "      <td>60</td>\n",
              "      <td>84.0</td>\n",
              "      <td>14260</td>\n",
              "      <td>8</td>\n",
              "      <td>5</td>\n",
              "      <td>2000</td>\n",
              "      <td>2000</td>\n",
              "      <td>350.0</td>\n",
              "      <td>655.0</td>\n",
              "      <td>0.0</td>\n",
              "      <td>...</td>\n",
              "      <td>0</td>\n",
              "      <td>0</td>\n",
              "      <td>0</td>\n",
              "      <td>1</td>\n",
              "      <td>0</td>\n",
              "      <td>0</td>\n",
              "      <td>0</td>\n",
              "      <td>0</td>\n",
              "      <td>1</td>\n",
              "      <td>0</td>\n",
              "    </tr>\n",
              "  </tbody>\n",
              "</table>\n",
              "<p>5 rows × 276 columns</p>\n",
              "</div>"
            ],
            "text/plain": [
              "    MSSubClass  LotFrontage  LotArea  OverallQual  OverallCond  YearBuilt  \\\n",
              "Id                                                                          \n",
              "1           60         65.0     8450            7            5       2003   \n",
              "2           20         80.0     9600            6            8       1976   \n",
              "3           60         68.0    11250            7            5       2001   \n",
              "4           70         60.0     9550            7            5       1915   \n",
              "5           60         84.0    14260            8            5       2000   \n",
              "\n",
              "    YearRemodAdd  MasVnrArea  BsmtFinSF1  BsmtFinSF2          ...            \\\n",
              "Id                                                            ...             \n",
              "1           2003       196.0       706.0         0.0          ...             \n",
              "2           1976         0.0       978.0         0.0          ...             \n",
              "3           2002       162.0       486.0         0.0          ...             \n",
              "4           1970         0.0       216.0         0.0          ...             \n",
              "5           2000       350.0       655.0         0.0          ...             \n",
              "\n",
              "    SaleType_ConLw  SaleType_New  SaleType_Oth  SaleType_WD  \\\n",
              "Id                                                            \n",
              "1                0             0             0            1   \n",
              "2                0             0             0            1   \n",
              "3                0             0             0            1   \n",
              "4                0             0             0            1   \n",
              "5                0             0             0            1   \n",
              "\n",
              "    SaleCondition_Abnorml  SaleCondition_AdjLand  SaleCondition_Alloca  \\\n",
              "Id                                                                       \n",
              "1                       0                      0                     0   \n",
              "2                       0                      0                     0   \n",
              "3                       0                      0                     0   \n",
              "4                       1                      0                     0   \n",
              "5                       0                      0                     0   \n",
              "\n",
              "    SaleCondition_Family  SaleCondition_Normal  SaleCondition_Partial  \n",
              "Id                                                                     \n",
              "1                      0                     1                      0  \n",
              "2                      0                     1                      0  \n",
              "3                      0                     1                      0  \n",
              "4                      0                     0                      0  \n",
              "5                      0                     1                      0  \n",
              "\n",
              "[5 rows x 276 columns]"
            ]
          },
          "metadata": {
            "tags": []
          },
          "execution_count": 43
        }
      ]
    },
    {
      "metadata": {
        "id": "ZMAH8G85PUZv",
        "colab_type": "code",
        "colab": {}
      },
      "cell_type": "code",
      "source": [
        "X_train = full_data[full_data['Training']==True].drop('Training', axis=1)\n",
        "X_Test = full_data[full_data['Training']==False].drop('Training', axis=1)\n",
        "\n",
        "rfr = RandomForestRegressor(n_estimators=1000, random_state=1, n_jobs=-1)\n",
        "\n",
        "rfr.fit(X_train, y_train)\n",
        "y_Predicted = rfr.predict(X_Test)"
      ],
      "execution_count": 0,
      "outputs": []
    },
    {
      "metadata": {
        "id": "yIdLMua2PUZ2",
        "colab_type": "code",
        "colab": {
          "base_uri": "https://localhost:8080/",
          "height": 4930
        },
        "outputId": "b3fc40a3-2365-4532-fd84-25f40a6869f7"
      },
      "cell_type": "code",
      "source": [
        "import numpy as np\n",
        "fimportance = rfr.feature_importances_\n",
        "indices = np.argsort(fimportance)[::-1]\n",
        "for i in range(full_data.shape[1]-1):\n",
        "    print(\"{:3d}) {:30s} {:.5f}\".format(i+1, full_data.columns[indices[i]], fimportance[indices[i]]))"
      ],
      "execution_count": 45,
      "outputs": [
        {
          "output_type": "stream",
          "text": [
            "  1) OverallQual                    0.58206\n",
            "  2) GrLivArea                      0.10864\n",
            "  3) TotalBsmtSF                    0.04069\n",
            "  4) 2ndFlrSF                       0.03529\n",
            "  5) BsmtFinSF1                     0.02748\n",
            "  6) 1stFlrSF                       0.02220\n",
            "  7) GarageCars                     0.02070\n",
            "  8) GarageArea                     0.01492\n",
            "  9) LotArea                        0.01285\n",
            " 10) YearBuilt                      0.00880\n",
            " 11) TotRmsAbvGrd                   0.00720\n",
            " 12) YearRemodAdd                   0.00648\n",
            " 13) LotFrontage                    0.00628\n",
            " 14) BsmtUnfSF                      0.00522\n",
            " 15) FullBath                       0.00522\n",
            " 16) OpenPorchSF                    0.00469\n",
            " 17) MasVnrArea                     0.00463\n",
            " 18) WoodDeckSF                     0.00455\n",
            " 19) GarageYrBlt                    0.00437\n",
            " 20) OverallCond                    0.00415\n",
            " 21) Foundation_Wood                0.00341\n",
            " 22) MoSold                         0.00340\n",
            " 23) Fireplaces                     0.00285\n",
            " 24) GarageType_CarPort             0.00215\n",
            " 25) MasVnrType_Stone               0.00180\n",
            " 26) HeatingQC_TA                   0.00174\n",
            " 27) BsmtQual_Fa                    0.00171\n",
            " 28) BedroomAbvGr                   0.00164\n",
            " 29) MSZoning_RL                    0.00163\n",
            " 30) GarageType_2Types              0.00162\n",
            " 31) KitchenQual_Fa                 0.00161\n",
            " 32) CentralAir_N                   0.00155\n",
            " 33) MSSubClass                     0.00146\n",
            " 34) YrSold                         0.00130\n",
            " 35) LotShape_IR3                   0.00130\n",
            " 36) BsmtExposure_Av                0.00121\n",
            " 37) Electrical_SBrkr               0.00120\n",
            " 38) ScreenPorch                    0.00117\n",
            " 39) BsmtExposure_Mn                0.00100\n",
            " 40) KitchenQual_Gd                 0.00088\n",
            " 41) KitchenAbvGr                   0.00086\n",
            " 42) HalfBath                       0.00086\n",
            " 43) BsmtFullBath                   0.00081\n",
            " 44) ExterQual_Fa                   0.00076\n",
            " 45) LotShape_Reg                   0.00074\n",
            " 46) GarageFinish_RFn               0.00070\n",
            " 47) ExterQual_Gd                   0.00069\n",
            " 48) EnclosedPorch                  0.00067\n",
            " 49) SaleType_Oth                   0.00066\n",
            " 50) Neighborhood_CollgCr           0.00065\n",
            " 51) Exterior2nd_Stucco             0.00064\n",
            " 52) BsmtFinType1_BLQ               0.00063\n",
            " 53) MSZoning_RH                    0.00060\n",
            " 54) Exterior1st_CemntBd            0.00059\n",
            " 55) FireplaceQu_Fa                 0.00059\n",
            " 56) Neighborhood_NWAmes            0.00058\n",
            " 57) Neighborhood_Crawfor           0.00058\n",
            " 58) BsmtFinSF2                     0.00056\n",
            " 59) MasVnrType_None                0.00055\n",
            " 60) GarageType_Detchd              0.00053\n",
            " 61) Exterior1st_Stucco             0.00053\n",
            " 62) GarageFinish_Fin               0.00051\n",
            " 63) Exterior2nd_CmentBd            0.00050\n",
            " 64) SaleCondition_Normal           0.00050\n",
            " 65) GarageQual_Po                  0.00048\n",
            " 66) LandContour_Low                0.00047\n",
            " 67) Condition1_Feedr               0.00046\n",
            " 68) SaleType_ConLw                 0.00045\n",
            " 69) SaleCondition_Family           0.00044\n",
            " 70) RoofStyle_Gambrel              0.00044\n",
            " 71) Utilities_NoSeWa               0.00043\n",
            " 72) SaleType_WD                    0.00043\n",
            " 73) Functional_Sev                 0.00042\n",
            " 74) RoofStyle_Flat                 0.00042\n",
            " 75) Street_Pave                    0.00042\n",
            " 76) Neighborhood_Somerst           0.00042\n",
            " 77) LotShape_IR1                   0.00041\n",
            " 78) PoolArea                       0.00041\n",
            " 79) LotConfig_Inside               0.00040\n",
            " 80) MasVnrType_BrkCmn              0.00038\n",
            " 81) BsmtHalfBath                   0.00036\n",
            " 82) BsmtQual_Gd                    0.00035\n",
            " 83) Heating_Wall                   0.00031\n",
            " 84) LotConfig_Corner               0.00031\n",
            " 85) FireplaceQu_Po                 0.00030\n",
            " 86) LotConfig_FR3                  0.00030\n",
            " 87) Neighborhood_NoRidge           0.00030\n",
            " 88) GarageCond_Po                  0.00030\n",
            " 89) Foundation_CBlock              0.00028\n",
            " 90) 3SsnPorch                      0.00028\n",
            " 91) RoofMatl_ClyTile               0.00028\n",
            " 92) BsmtCond_TA                    0.00028\n",
            " 93) HeatingQC_Po                   0.00027\n",
            " 94) LandContour_Bnk                0.00027\n",
            " 95) BsmtExposure_No                0.00027\n",
            " 96) MasVnrType_BrkFace             0.00026\n",
            " 97) SaleCondition_Alloca           0.00026\n",
            " 98) Exterior2nd_ImStucc            0.00024\n",
            " 99) Functional_Typ                 0.00024\n",
            "100) Condition2_RRNn                0.00024\n",
            "101) Neighborhood_ClearCr           0.00023\n",
            "102) ExterCond_Po                   0.00023\n",
            "103) BsmtCond_Po                    0.00022\n",
            "104) GarageType_Basment             0.00022\n",
            "105) ExterCond_Fa                   0.00022\n",
            "106) Exterior1st_BrkComm            0.00022\n",
            "107) HouseStyle_2.5Unf              0.00022\n",
            "108) Training                       0.00022\n",
            "109) Neighborhood_Mitchel           0.00021\n",
            "110) Neighborhood_NridgHt           0.00020\n",
            "111) BldgType_TwnhsE                0.00020\n",
            "112) Exterior2nd_CBlock             0.00020\n",
            "113) BsmtFinType1_Rec               0.00020\n",
            "114) Condition2_Feedr               0.00019\n",
            "115) Exterior1st_ImStucc            0.00019\n",
            "116) Neighborhood_SawyerW           0.00019\n",
            "117) Foundation_BrkTil              0.00019\n",
            "118) GarageCond_TA                  0.00019\n",
            "119) HeatingQC_Fa                   0.00018\n",
            "120) Condition1_PosA                0.00017\n",
            "121) LandSlope_Gtl                  0.00017\n",
            "122) Exterior2nd_HdBoard            0.00017\n",
            "123) ExterCond_TA                   0.00017\n",
            "124) ExterCond_Ex                   0.00016\n",
            "125) Exterior1st_MetalSd            0.00016\n",
            "126) Exterior2nd_VinylSd            0.00016\n",
            "127) Exterior1st_VinylSd            0.00016\n",
            "128) BsmtExposure_Gd                0.00015\n",
            "129) PavedDrive_P                   0.00015\n",
            "130) Condition1_Artery              0.00014\n",
            "131) BsmtFinType2_Rec               0.00014\n",
            "132) BsmtQual_TA                    0.00013\n",
            "133) HouseStyle_1.5Unf              0.00013\n",
            "134) Exterior2nd_Other              0.00012\n",
            "135) BsmtCond_Fa                    0.00012\n",
            "136) Neighborhood_BrkSide           0.00012\n",
            "137) Neighborhood_StoneBr           0.00012\n",
            "138) LowQualFinSF                   0.00012\n",
            "139) HeatingQC_Ex                   0.00012\n",
            "140) HouseStyle_SLvl                0.00011\n",
            "141) BsmtFinType1_LwQ               0.00011\n",
            "142) Condition2_PosA                0.00011\n",
            "143) Electrical_Mix                 0.00010\n",
            "144) Exterior1st_CBlock             0.00010\n",
            "145) BsmtFinType1_ALQ               0.00010\n",
            "146) Neighborhood_SWISU             0.00010\n",
            "147) LandContour_HLS                0.00010\n",
            "148) BsmtFinType1_GLQ               0.00009\n",
            "149) LotShape_IR2                   0.00009\n",
            "150) Exterior2nd_Stone              0.00009\n",
            "151) HouseStyle_SFoyer              0.00009\n",
            "152) Neighborhood_NPkVill           0.00009\n",
            "153) LotConfig_CulDSac              0.00009\n",
            "154) Functional_Min2                0.00009\n",
            "155) Neighborhood_BrDale            0.00008\n",
            "156) Exterior1st_Stone              0.00008\n",
            "157) MSZoning_C (all)               0.00008\n",
            "158) Neighborhood_Edwards           0.00008\n",
            "159) Exterior2nd_Wd Sdng            0.00008\n",
            "160) Neighborhood_Veenker           0.00007\n",
            "161) RoofStyle_Gable                0.00007\n",
            "162) BsmtFinType1_Unf               0.00007\n",
            "163) MiscVal                        0.00007\n",
            "164) RoofMatl_WdShake               0.00006\n",
            "165) CentralAir_Y                   0.00006\n",
            "166) BldgType_Twnhs                 0.00006\n",
            "167) Neighborhood_Gilbert           0.00006\n",
            "168) LandSlope_Mod                  0.00006\n",
            "169) Exterior2nd_Brk Cmn            0.00006\n",
            "170) Heating_Floor                  0.00006\n",
            "171) BsmtFinType2_ALQ               0.00006\n",
            "172) FireplaceQu_Gd                 0.00006\n",
            "173) PavedDrive_N                   0.00005\n",
            "174) RoofStyle_Shed                 0.00005\n",
            "175) GarageQual_Ex                  0.00005\n",
            "176) BldgType_2fmCon                0.00005\n",
            "177) Neighborhood_MeadowV           0.00005\n",
            "178) Neighborhood_Sawyer            0.00005\n",
            "179) KitchenQual_Ex                 0.00005\n",
            "180) BsmtQual_Ex                    0.00005\n",
            "181) Functional_Maj2                0.00004\n",
            "182) BsmtFinType2_LwQ               0.00004\n",
            "183) Neighborhood_OldTown           0.00004\n",
            "184) PavedDrive_Y                   0.00004\n",
            "185) GarageQual_Fa                  0.00004\n",
            "186) SaleCondition_AdjLand          0.00004\n",
            "187) Condition1_PosN                0.00004\n",
            "188) Functional_Maj1                0.00004\n",
            "189) Exterior1st_AsphShn            0.00004\n",
            "190) Functional_Min1                0.00004\n",
            "191) Exterior2nd_Wd Shng            0.00004\n",
            "192) LotConfig_FR2                  0.00004\n",
            "193) GarageType_BuiltIn             0.00003\n",
            "194) BsmtFinType2_GLQ               0.00003\n",
            "195) GarageCond_Fa                  0.00003\n",
            "196) Exterior2nd_AsphShn            0.00003\n",
            "197) Heating_Grav                   0.00003\n",
            "198) GarageCond_Ex                  0.00003\n",
            "199) FireplaceQu_Ex                 0.00003\n",
            "200) ExterQual_Ex                   0.00002\n",
            "201) RoofMatl_Roll                  0.00002\n",
            "202) Condition1_Norm                0.00002\n",
            "203) Electrical_FuseA               0.00002\n",
            "204) Heating_GasA                   0.00002\n",
            "205) KitchenQual_TA                 0.00002\n",
            "206) MSZoning_FV                    0.00002\n",
            "207) BldgType_Duplex                0.00002\n",
            "208) Neighborhood_Timber            0.00002\n",
            "209) Exterior1st_Wd Sdng            0.00002\n",
            "210) Condition1_RRAe                0.00002\n",
            "211) Neighborhood_IDOTRR            0.00002\n",
            "212) Foundation_PConc               0.00002\n",
            "213) Functional_Mod                 0.00002\n",
            "214) GarageType_Attchd              0.00002\n",
            "215) SaleType_COD                   0.00002\n",
            "216) SaleType_ConLD                 0.00001\n",
            "217) HouseStyle_2.5Fin              0.00001\n",
            "218) BldgType_1Fam                  0.00001\n",
            "219) LandSlope_Sev                  0.00001\n",
            "220) HouseStyle_1Story              0.00001\n",
            "221) RoofMatl_CompShg               0.00001\n",
            "222) RoofMatl_WdShngl               0.00001\n",
            "223) Exterior1st_WdShing            0.00001\n",
            "224) Heating_GasW                   0.00001\n",
            "225) BsmtFinType2_BLQ               0.00001\n",
            "226) Condition2_Artery              0.00001\n",
            "227) HouseStyle_2Story              0.00001\n",
            "228) Neighborhood_NAmes             0.00001\n",
            "229) SaleType_CWD                   0.00001\n",
            "230) Exterior2nd_Plywood            0.00001\n",
            "231) Exterior1st_Plywood            0.00001\n",
            "232) RoofMatl_Tar&Grv               0.00001\n",
            "233) MSZoning_RM                    0.00001\n",
            "234) SaleType_Con                   0.00001\n",
            "235) Exterior2nd_MetalSd            0.00001\n",
            "236) FireplaceQu_TA                 0.00000\n",
            "237) RoofMatl_Membran               0.00000\n",
            "238) HouseStyle_1.5Fin              0.00000\n",
            "239) GarageCond_Gd                  0.00000\n",
            "240) GarageFinish_Unf               0.00000\n",
            "241) SaleType_ConLI                 0.00000\n",
            "242) Condition1_RRNe                0.00000\n",
            "243) Condition1_RRNn                0.00000\n",
            "244) Neighborhood_Blmngtn           0.00000\n",
            "245) SaleCondition_Abnorml          0.00000\n",
            "246) Exterior2nd_AsbShng            0.00000\n",
            "247) RoofStyle_Hip                  0.00000\n",
            "248) Exterior1st_AsbShng            0.00000\n",
            "249) Street_Grvl                    0.00000\n",
            "250) Neighborhood_Blueste           0.00000\n",
            "251) Electrical_FuseF               0.00000\n",
            "252) RoofStyle_Mansard              0.00000\n",
            "253) SaleType_New                   0.00000\n",
            "254) Foundation_Slab                0.00000\n",
            "255) GarageQual_Gd                  0.00000\n",
            "256) ExterQual_TA                   0.00000\n",
            "257) Electrical_FuseP               0.00000\n",
            "258) BsmtCond_Gd                    0.00000\n",
            "259) Condition1_RRAn                0.00000\n",
            "260) ExterCond_Gd                   0.00000\n",
            "261) Foundation_Stone               0.00000\n",
            "262) Condition2_PosN                0.00000\n",
            "263) Heating_OthW                   0.00000\n",
            "264) Condition2_RRAe                0.00000\n",
            "265) Condition2_RRAn                0.00000\n",
            "266) GarageQual_TA                  0.00000\n",
            "267) Exterior2nd_BrkFace            0.00000\n",
            "268) BsmtFinType2_Unf               0.00000\n",
            "269) Utilities_AllPub               0.00000\n",
            "270) LandContour_Lvl                0.00000\n",
            "271) Exterior1st_HdBoard            0.00000\n",
            "272) HeatingQC_Gd                   0.00000\n",
            "273) Condition2_Norm                0.00000\n",
            "274) RoofMatl_Metal                 0.00000\n",
            "275) Exterior1st_BrkFace            0.00000\n"
          ],
          "name": "stdout"
        }
      ]
    },
    {
      "metadata": {
        "id": "RmPzugHNPUaC",
        "colab_type": "code",
        "colab": {
          "base_uri": "https://localhost:8080/",
          "height": 35
        },
        "outputId": "57269c60-6beb-429f-ef20-deecd6ae4757"
      },
      "cell_type": "code",
      "source": [
        "full_data.columns[275]"
      ],
      "execution_count": 46,
      "outputs": [
        {
          "output_type": "execute_result",
          "data": {
            "text/plain": [
              "'SaleCondition_Partial'"
            ]
          },
          "metadata": {
            "tags": []
          },
          "execution_count": 46
        }
      ]
    },
    {
      "metadata": {
        "id": "ZoQHGYsYPUaQ",
        "colab_type": "code",
        "colab": {
          "base_uri": "https://localhost:8080/",
          "height": 283
        },
        "outputId": "d2724592-0d10-4799-dd5c-fb6e2dbbfd62"
      },
      "cell_type": "code",
      "source": [
        "%matplotlib inline\n",
        "import matplotlib.pyplot as plt\n",
        "plt.scatter(y_Predicted, yT)"
      ],
      "execution_count": 47,
      "outputs": [
        {
          "output_type": "execute_result",
          "data": {
            "text/plain": [
              "<matplotlib.collections.PathCollection at 0x7fcdbf140588>"
            ]
          },
          "metadata": {
            "tags": []
          },
          "execution_count": 47
        },
        {
          "output_type": "display_data",
          "data": {
            "image/png": "[encoded data removed]",
            "text/plain": [
              "<matplotlib.figure.Figure at 0x7fcdd4cf6198>"
            ]
          },
          "metadata": {
            "tags": []
          }
        }
      ]
    },
    {
      "metadata": {
        "id": "mC84GWA9e760",
        "colab_type": "code",
        "colab": {
          "base_uri": "https://localhost:8080/",
          "height": 35
        },
        "outputId": "c50eab3b-cd54-4765-d325-ec6f7dc43e6f"
      },
      "cell_type": "code",
      "source": [
        "Top100 = X_train.columns[indices[:100]]\n",
        "X_train[Top100].values.shape"
      ],
      "execution_count": 52,
      "outputs": [
        {
          "output_type": "execute_result",
          "data": {
            "text/plain": [
              "(1460, 100)"
            ]
          },
          "metadata": {
            "tags": []
          },
          "execution_count": 52
        }
      ]
    },
    {
      "metadata": {
        "id": "rvFTmtynPUaX",
        "colab_type": "code",
        "colab": {
          "base_uri": "https://localhost:8080/",
          "height": 877
        },
        "outputId": "0f52660b-f5c6-4127-b5d4-6aae33d58e5c"
      },
      "cell_type": "code",
      "source": [
        "#!pip install TPOT\n",
        "from tpot import TPOTRegressor\n",
        "\n",
        "tpotr = TPOTRegressor(generations=20, population_size=30, cv=5, scoring='neg_mean_absolute_error', \\\n",
        "                      n_jobs=-1, max_time_mins=120, verbosity=2)\n",
        "Top100 = X_train.columns[indices[:100]]\n",
        "Xt = X_train[Top100].values\n",
        "yt = y_train.values\n",
        "tpotr.fit(Xt, yt)"
      ],
      "execution_count": 55,
      "outputs": [
        {
          "output_type": "stream",
          "text": [
            "Optimization Progress: 100%|██████████| 60/60 [01:32<00:00,  1.29s/pipeline]"
          ],
          "name": "stderr"
        },
        {
          "output_type": "stream",
          "text": [
            "Generation 1 - Current best internal CV score: -17013.759496507046\n"
          ],
          "name": "stdout"
        },
        {
          "output_type": "stream",
          "text": [
            "Optimization Progress: 91pipeline [07:14,  5.07s/pipeline]"
          ],
          "name": "stderr"
        },
        {
          "output_type": "stream",
          "text": [
            "Generation 2 - Current best internal CV score: -16804.607137045376\n"
          ],
          "name": "stdout"
        },
        {
          "output_type": "stream",
          "text": [
            "Optimization Progress: 121pipeline [08:05,  1.82s/pipeline]"
          ],
          "name": "stderr"
        },
        {
          "output_type": "stream",
          "text": [
            "Generation 3 - Current best internal CV score: -16506.264359132627\n"
          ],
          "name": "stdout"
        },
        {
          "output_type": "stream",
          "text": [
            "Optimization Progress: 151pipeline [09:05,  1.63s/pipeline]"
          ],
          "name": "stderr"
        },
        {
          "output_type": "stream",
          "text": [
            "Generation 4 - Current best internal CV score: -15264.981559140573\n"
          ],
          "name": "stdout"
        },
        {
          "output_type": "stream",
          "text": [
            "Optimization Progress: 181pipeline [12:19,  5.61s/pipeline]"
          ],
          "name": "stderr"
        },
        {
          "output_type": "stream",
          "text": [
            "Generation 5 - Current best internal CV score: -15264.981559140573\n"
          ],
          "name": "stdout"
        },
        {
          "output_type": "stream",
          "text": [
            "Optimization Progress: 211pipeline [13:42,  2.46s/pipeline]"
          ],
          "name": "stderr"
        },
        {
          "output_type": "stream",
          "text": [
            "Generation 6 - Current best internal CV score: -15264.981559140573\n"
          ],
          "name": "stdout"
        },
        {
          "output_type": "stream",
          "text": [
            "Optimization Progress: 241pipeline [16:23,  3.36s/pipeline]"
          ],
          "name": "stderr"
        },
        {
          "output_type": "stream",
          "text": [
            "Generation 7 - Current best internal CV score: -14867.393722920742\n"
          ],
          "name": "stdout"
        },
        {
          "output_type": "stream",
          "text": [
            "Optimization Progress: 271pipeline [19:27,  5.56s/pipeline]"
          ],
          "name": "stderr"
        },
        {
          "output_type": "stream",
          "text": [
            "Generation 8 - Current best internal CV score: -14792.522441992827\n"
          ],
          "name": "stdout"
        },
        {
          "output_type": "stream",
          "text": [
            "Optimization Progress: 301pipeline [21:59,  8.00s/pipeline]"
          ],
          "name": "stderr"
        },
        {
          "output_type": "stream",
          "text": [
            "Generation 9 - Current best internal CV score: -14792.522441992827\n"
          ],
          "name": "stdout"
        },
        {
          "output_type": "stream",
          "text": [
            "Optimization Progress: 332pipeline [28:46, 10.73s/pipeline]"
          ],
          "name": "stderr"
        },
        {
          "output_type": "stream",
          "text": [
            "Generation 10 - Current best internal CV score: -14792.522441992827\n"
          ],
          "name": "stdout"
        },
        {
          "output_type": "stream",
          "text": [
            "Optimization Progress: 362pipeline [30:59,  4.68s/pipeline]"
          ],
          "name": "stderr"
        },
        {
          "output_type": "stream",
          "text": [
            "Generation 11 - Current best internal CV score: -14695.287111431835\n"
          ],
          "name": "stdout"
        },
        {
          "output_type": "stream",
          "text": [
            "Optimization Progress: 392pipeline [33:15,  4.19s/pipeline]"
          ],
          "name": "stderr"
        },
        {
          "output_type": "stream",
          "text": [
            "Generation 12 - Current best internal CV score: -14695.287111431835\n"
          ],
          "name": "stdout"
        },
        {
          "output_type": "stream",
          "text": [
            "Optimization Progress: 422pipeline [35:43,  4.12s/pipeline]"
          ],
          "name": "stderr"
        },
        {
          "output_type": "stream",
          "text": [
            "Generation 13 - Current best internal CV score: -14695.287111431835\n"
          ],
          "name": "stdout"
        },
        {
          "output_type": "stream",
          "text": [
            "Optimization Progress: 452pipeline [46:27, 14.70s/pipeline]"
          ],
          "name": "stderr"
        },
        {
          "output_type": "stream",
          "text": [
            "Generation 14 - Current best internal CV score: -14695.287111431835\n"
          ],
          "name": "stdout"
        },
        {
          "output_type": "stream",
          "text": [
            "Optimization Progress: 482pipeline [48:31,  3.76s/pipeline]"
          ],
          "name": "stderr"
        },
        {
          "output_type": "stream",
          "text": [
            "Generation 15 - Current best internal CV score: -14695.287111431835\n"
          ],
          "name": "stdout"
        },
        {
          "output_type": "stream",
          "text": [
            "Optimization Progress: 512pipeline [54:40, 17.39s/pipeline]"
          ],
          "name": "stderr"
        },
        {
          "output_type": "stream",
          "text": [
            "Generation 16 - Current best internal CV score: -14651.583524885844\n"
          ],
          "name": "stdout"
        },
        {
          "output_type": "stream",
          "text": [
            "Optimization Progress: 544pipeline [1:01:58, 11.87s/pipeline]"
          ],
          "name": "stderr"
        },
        {
          "output_type": "stream",
          "text": [
            "Generation 17 - Current best internal CV score: -14651.583524885844\n"
          ],
          "name": "stdout"
        },
        {
          "output_type": "stream",
          "text": [
            "Optimization Progress: 574pipeline [1:04:23,  4.59s/pipeline]"
          ],
          "name": "stderr"
        },
        {
          "output_type": "stream",
          "text": [
            "Generation 18 - Current best internal CV score: -14651.583524885844\n"
          ],
          "name": "stdout"
        },
        {
          "output_type": "stream",
          "text": [
            "Optimization Progress: 604pipeline [1:06:22,  3.90s/pipeline]"
          ],
          "name": "stderr"
        },
        {
          "output_type": "stream",
          "text": [
            "Generation 19 - Current best internal CV score: -14602.257051565557\n"
          ],
          "name": "stdout"
        },
        {
          "output_type": "stream",
          "text": [
            "Optimization Progress: 634pipeline [1:08:32,  3.68s/pipeline]"
          ],
          "name": "stderr"
        },
        {
          "output_type": "stream",
          "text": [
            "Generation 20 - Current best internal CV score: -14602.257051565557\n"
          ],
          "name": "stdout"
        },
        {
          "output_type": "stream",
          "text": [
            "Optimization Progress: 664pipeline [1:10:33,  4.32s/pipeline]"
          ],
          "name": "stderr"
        },
        {
          "output_type": "stream",
          "text": [
            "Generation 21 - Current best internal CV score: -14602.257051565557\n"
          ],
          "name": "stdout"
        },
        {
          "output_type": "stream",
          "text": [
            "Optimization Progress: 694pipeline [1:13:14,  4.61s/pipeline]"
          ],
          "name": "stderr"
        },
        {
          "output_type": "stream",
          "text": [
            "Generation 22 - Current best internal CV score: -14550.201511978148\n"
          ],
          "name": "stdout"
        },
        {
          "output_type": "stream",
          "text": [
            "Optimization Progress: 724pipeline [1:15:23,  3.41s/pipeline]"
          ],
          "name": "stderr"
        },
        {
          "output_type": "stream",
          "text": [
            "Generation 23 - Current best internal CV score: -14529.161903025113\n"
          ],
          "name": "stdout"
        },
        {
          "output_type": "stream",
          "text": [
            "Optimization Progress: 754pipeline [1:18:21,  5.20s/pipeline]"
          ],
          "name": "stderr"
        },
        {
          "output_type": "stream",
          "text": [
            "Generation 24 - Current best internal CV score: -14478.684822023808\n"
          ],
          "name": "stdout"
        },
        {
          "output_type": "stream",
          "text": [
            "Optimization Progress: 784pipeline [1:20:49,  4.49s/pipeline]"
          ],
          "name": "stderr"
        },
        {
          "output_type": "stream",
          "text": [
            "Generation 25 - Current best internal CV score: -14478.684822023808\n"
          ],
          "name": "stdout"
        },
        {
          "output_type": "stream",
          "text": [
            "Optimization Progress: 814pipeline [1:23:58,  5.73s/pipeline]"
          ],
          "name": "stderr"
        },
        {
          "output_type": "stream",
          "text": [
            "Generation 26 - Current best internal CV score: -14442.130311586758\n"
          ],
          "name": "stdout"
        },
        {
          "output_type": "stream",
          "text": [
            "Optimization Progress: 844pipeline [1:27:13,  5.99s/pipeline]"
          ],
          "name": "stderr"
        },
        {
          "output_type": "stream",
          "text": [
            "Generation 27 - Current best internal CV score: -14442.130311586758\n"
          ],
          "name": "stdout"
        },
        {
          "output_type": "stream",
          "text": [
            "Optimization Progress: 874pipeline [1:29:52,  4.76s/pipeline]"
          ],
          "name": "stderr"
        },
        {
          "output_type": "stream",
          "text": [
            "Generation 28 - Current best internal CV score: -14442.130311586758\n"
          ],
          "name": "stdout"
        },
        {
          "output_type": "stream",
          "text": [
            "Optimization Progress: 905pipeline [1:37:02,  8.07s/pipeline]"
          ],
          "name": "stderr"
        },
        {
          "output_type": "stream",
          "text": [
            "Generation 29 - Current best internal CV score: -14435.815558895954\n"
          ],
          "name": "stdout"
        },
        {
          "output_type": "stream",
          "text": [
            "Optimization Progress: 935pipeline [1:39:59,  5.04s/pipeline]"
          ],
          "name": "stderr"
        },
        {
          "output_type": "stream",
          "text": [
            "Generation 30 - Current best internal CV score: -14435.815558895954\n"
          ],
          "name": "stdout"
        },
        {
          "output_type": "stream",
          "text": [
            "Optimization Progress: 966pipeline [1:50:37, 16.66s/pipeline]"
          ],
          "name": "stderr"
        },
        {
          "output_type": "stream",
          "text": [
            "Generation 31 - Current best internal CV score: -14325.90228515166\n"
          ],
          "name": "stdout"
        },
        {
          "output_type": "stream",
          "text": [
            "Optimization Progress: 996pipeline [1:54:54,  6.04s/pipeline]"
          ],
          "name": "stderr"
        },
        {
          "output_type": "stream",
          "text": [
            "Generation 32 - Current best internal CV score: -14325.90228515166\n"
          ],
          "name": "stdout"
        },
        {
          "output_type": "stream",
          "text": [
            "Optimization Progress: 1026pipeline [1:57:46,  4.75s/pipeline]"
          ],
          "name": "stderr"
        },
        {
          "output_type": "stream",
          "text": [
            "Generation 33 - Current best internal CV score: -14325.90228515166\n"
          ],
          "name": "stdout"
        },
        {
          "output_type": "stream",
          "text": [
            ""
          ],
          "name": "stderr"
        },
        {
          "output_type": "stream",
          "text": [
            "\n",
            "124.15082696666667 minutes have elapsed. TPOT will close down.\n",
            "TPOT closed prematurely. Will use the current best pipeline.\n",
            "\n",
            "Best pipeline: ExtraTreesRegressor(LassoLarsCV(ElasticNetCV(ElasticNetCV(input_matrix, l1_ratio=0.45, tol=1e-05), l1_ratio=0.6000000000000001, tol=0.01), normalize=True), bootstrap=False, max_features=0.8500000000000001, min_samples_leaf=1, min_samples_split=9, n_estimators=100)\n"
          ],
          "name": "stdout"
        },
        {
          "output_type": "execute_result",
          "data": {
            "text/plain": [
              "TPOTRegressor(config_dict={'sklearn.linear_model.ElasticNetCV': {'l1_ratio': array([0.  , 0.05, 0.1 , 0.15, 0.2 , 0.25, 0.3 , 0.35, 0.4 , 0.45, 0.5 ,\n",
              "       0.55, 0.6 , 0.65, 0.7 , 0.75, 0.8 , 0.85, 0.9 , 0.95, 1.  ]), 'tol': [1e-05, 0.0001, 0.001, 0.01, 0.1]}, 'sklearn.ensemble.ExtraTreesRegressor': {'n_estimato....3 , 0.35, 0.4 , 0.45, 0.5 , 0.55,\n",
              "       0.6 , 0.65, 0.7 , 0.75, 0.8 , 0.85, 0.9 , 0.95, 1.  ])}}}},\n",
              "       crossover_rate=0.1, cv=5, disable_update_check=False,\n",
              "       early_stop=None, generations=1000000, max_eval_time_mins=5,\n",
              "       max_time_mins=120, memory=None, mutation_rate=0.9, n_jobs=2,\n",
              "       offspring_size=30, periodic_checkpoint_folder=None,\n",
              "       population_size=30, random_state=None, scoring=None, subsample=1.0,\n",
              "       verbosity=2, warm_start=False)"
            ]
          },
          "metadata": {
            "tags": []
          },
          "execution_count": 55
        }
      ]
    },
    {
      "metadata": {
        "id": "CfUVDs2XBJcI",
        "colab_type": "code",
        "colab": {
          "base_uri": "https://localhost:8080/",
          "height": 124
        },
        "outputId": "5732525e-ef9c-49bb-c0af-1dbab5c2035b"
      },
      "cell_type": "code",
      "source": [
        "tpotr.fitted_pipeline_"
      ],
      "execution_count": 56,
      "outputs": [
        {
          "output_type": "execute_result",
          "data": {
            "text/plain": [
              "Pipeline(memory=None,\n",
              "     steps=[('stackingestimator-1', StackingEstimator(estimator=ElasticNetCV(alphas=None, copy_X=True, cv=None, eps=0.001, fit_intercept=True,\n",
              "       l1_ratio=0.45, max_iter=1000, n_alphas=100, n_jobs=1,\n",
              "       normalize=False, positive=False, precompute='auto',\n",
              "       random_state=None, selection='cycli...timators=100, n_jobs=1,\n",
              "          oob_score=False, random_state=None, verbose=0, warm_start=False))])"
            ]
          },
          "metadata": {
            "tags": []
          },
          "execution_count": 56
        }
      ]
    },
    {
      "metadata": {
        "id": "DX3aaNFaBpLD",
        "colab_type": "code",
        "colab": {
          "base_uri": "https://localhost:8080/",
          "height": 35
        },
        "outputId": "032fd1fd-c095-4dc6-ac9e-e5c4f9399916"
      },
      "cell_type": "code",
      "source": [
        "tpotr.export('tpot_colab_pipeline.py')"
      ],
      "execution_count": 59,
      "outputs": [
        {
          "output_type": "execute_result",
          "data": {
            "text/plain": [
              "True"
            ]
          },
          "metadata": {
            "tags": []
          },
          "execution_count": 59
        }
      ]
    },
    {
      "metadata": {
        "id": "nGKB25AKDIFw",
        "colab_type": "code",
        "colab": {
          "base_uri": "https://localhost:8080/",
          "height": 446
        },
        "outputId": "1d382f75-7abd-44fc-ec47-069b96372dfa"
      },
      "cell_type": "code",
      "source": [
        "from google.colab import files\n",
        "files.download('tpot_colab_pipeline.py')\n",
        "!cat tpot_colab_pipeline.py"
      ],
      "execution_count": 62,
      "outputs": [
        {
          "output_type": "stream",
          "text": [
            "import numpy as np\r\n",
            "import pandas as pd\r\n",
            "from sklearn.ensemble import ExtraTreesRegressor\r\n",
            "from sklearn.linear_model import ElasticNetCV, LassoLarsCV\r\n",
            "from sklearn.model_selection import train_test_split\r\n",
            "from sklearn.pipeline import make_pipeline, make_union\r\n",
            "from tpot.builtins import StackingEstimator\r\n",
            "\r\n",
            "# NOTE: Make sure that the class is labeled 'target' in the data file\r\n",
            "tpot_data = pd.read_csv('PATH/TO/DATA/FILE', sep='COLUMN_SEPARATOR', dtype=np.float64)\r\n",
            "features = tpot_data.drop('target', axis=1).values\r\n",
            "training_features, testing_features, training_target, testing_target = \\\r\n",
            "            train_test_split(features, tpot_data['target'].values, random_state=42)\r\n",
            "\r\n",
            "# Score on the training set was:-14325.90228515166\r\n",
            "exported_pipeline = make_pipeline(\r\n",
            "    StackingEstimator(estimator=ElasticNetCV(l1_ratio=0.45, tol=1e-05)),\r\n",
            "    StackingEstimator(estimator=ElasticNetCV(l1_ratio=0.6000000000000001, tol=0.01)),\r\n",
            "    StackingEstimator(estimator=LassoLarsCV(normalize=True)),\r\n",
            "    ExtraTreesRegressor(bootstrap=False, max_features=0.8500000000000001, min_samples_leaf=1, min_samples_split=9, n_estimators=100)\r\n",
            ")\r\n",
            "\r\n",
            "exported_pipeline.fit(training_features, training_target)\r\n",
            "results = exported_pipeline.predict(testing_features)\r\n"
          ],
          "name": "stdout"
        }
      ]
    },
    {
      "metadata": {
        "id": "ae8YfNhCPUac",
        "colab_type": "code",
        "colab": {}
      },
      "cell_type": "code",
      "source": [
        "my_1st_submission = pd.DataFrame({'Id': Test.Id, 'SalePrice': yT})\n",
        "# you could use any filename. We choose submission here\n",
        "my_1st_submission.to_csv('submission_01.csv', index=False)"
      ],
      "execution_count": 0,
      "outputs": []
    }
  ]
}